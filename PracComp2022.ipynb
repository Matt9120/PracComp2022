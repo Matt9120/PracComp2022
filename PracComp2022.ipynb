{
  "nbformat": 4,
  "nbformat_minor": 0,
  "metadata": {
    "colab": {
      "provenance": [],
      "authorship_tag": "ABX9TyNDCGh6+89hQoZLZ5JJ7/tO",
      "include_colab_link": true
    },
    "kernelspec": {
      "name": "python3",
      "display_name": "Python 3"
    },
    "language_info": {
      "name": "python"
    }
  },
  "cells": [
    {
      "cell_type": "markdown",
      "metadata": {
        "id": "view-in-github",
        "colab_type": "text"
      },
      "source": [
        "<a href=\"https://colab.research.google.com/github/Matt9120/PracComp2022/blob/master/PracComp2022.ipynb\" target=\"_parent\"><img src=\"https://colab.research.google.com/assets/colab-badge.svg\" alt=\"Open In Colab\"/></a>"
      ]
    },
    {
      "cell_type": "code",
      "execution_count": null,
      "metadata": {
        "id": "_d38uf0H7HY6"
      },
      "outputs": [],
      "source": []
    },
    {
      "cell_type": "markdown",
      "source": [
        "#Basics"
      ],
      "metadata": {
        "id": "uBC0Ved57gQI"
      }
    },
    {
      "cell_type": "markdown",
      "source": [
        "## Markdown Carry Over"
      ],
      "metadata": {
        "id": "jeEIaajS74Ze"
      }
    },
    {
      "cell_type": "markdown",
      "source": [
        "* Use asterics\n",
        "* To create \n",
        "* Unordered lists.\n",
        "1. Use numbers\n",
        "2. To create\n",
        "3. Ordered lists. \n",
        "\n",
        "* Top level \n",
        "  * Indent one\n",
        "  * Indent two \n",
        "    *Subindent 1\n",
        "    *Subindent 2\n",
        "\n",
        "Line \n",
        "breaks\n",
        "don't \n",
        "matter. \n",
        "\n",
        "But _blank lines_ create new paragraphs\n",
        "\n",
        "[Bell Lab](https://bellecolenglab.wixsite.com/eastcarolina)\n"
      ],
      "metadata": {
        "id": "HxufC1CX7-_w"
      }
    },
    {
      "cell_type": "markdown",
      "source": [
        "# Python Basics\n"
      ],
      "metadata": {
        "id": "7wtyDOmz8KHr"
      }
    },
    {
      "cell_type": "markdown",
      "source": [
        "## Variables"
      ],
      "metadata": {
        "id": "_THuYqHc8_Uj"
      }
    },
    {
      "cell_type": "code",
      "source": [
        "Myage = 23\n",
        "given_name = 'Matthew'\n",
        "Family_name = 'Barnes'\n"
      ],
      "metadata": {
        "id": "layrxwZ49BjU"
      },
      "execution_count": null,
      "outputs": []
    },
    {
      "cell_type": "code",
      "source": [
        "print(given_name, 'is', Myage, 'years old.')"
      ],
      "metadata": {
        "colab": {
          "base_uri": "https://localhost:8080/"
        },
        "id": "URjxvnZd92Sz",
        "outputId": "d74f155a-9437-457b-d09e-67a7f9834df1"
      },
      "execution_count": null,
      "outputs": [
        {
          "output_type": "stream",
          "name": "stdout",
          "text": [
            "Matthew is 23 years old.\n"
          ]
        }
      ]
    },
    {
      "cell_type": "markdown",
      "source": [
        "### Objects: strings vs. integers"
      ],
      "metadata": {
        "id": "sms8eFl1ADWO"
      }
    },
    {
      "cell_type": "code",
      "source": [
        "#type(Myage)\n",
        "#type(given_name)\n",
        "\n",
        "print(type(Myage), type(given_name))"
      ],
      "metadata": {
        "colab": {
          "base_uri": "https://localhost:8080/"
        },
        "id": "lQiu8JYh-qF-",
        "outputId": "a1501a19-3b33-4cf3-9f79-a071a6be8acf"
      },
      "execution_count": null,
      "outputs": [
        {
          "output_type": "stream",
          "name": "stdout",
          "text": [
            "<class 'int'> <class 'str'>\n"
          ]
        }
      ]
    },
    {
      "cell_type": "code",
      "source": [
        "Myage_str = str(Myage)\n",
        "type(Myage_str)"
      ],
      "metadata": {
        "colab": {
          "base_uri": "https://localhost:8080/"
        },
        "id": "7blKyd_p_DI-",
        "outputId": "1e4b6fe4-04fe-4a75-8b9c-e3eaf704c8c5"
      },
      "execution_count": null,
      "outputs": [
        {
          "output_type": "execute_result",
          "data": {
            "text/plain": [
              "str"
            ]
          },
          "metadata": {},
          "execution_count": 19
        }
      ]
    },
    {
      "cell_type": "code",
      "source": [
        "print(Myage +1)"
      ],
      "metadata": {
        "colab": {
          "base_uri": "https://localhost:8080/"
        },
        "id": "dWH7axqm_XMZ",
        "outputId": "bdaf8ab6-fa95-4986-eedf-4d052342e06c"
      },
      "execution_count": null,
      "outputs": [
        {
          "output_type": "stream",
          "name": "stdout",
          "text": [
            "24\n"
          ]
        }
      ]
    },
    {
      "cell_type": "code",
      "source": [
        "print(Myage_str + str(1))"
      ],
      "metadata": {
        "colab": {
          "base_uri": "https://localhost:8080/"
        },
        "id": "WtU4q8pf_de9",
        "outputId": "8f81d7a8-e225-49a2-f73b-84fecf6dbf82"
      },
      "execution_count": null,
      "outputs": [
        {
          "output_type": "stream",
          "name": "stdout",
          "text": [
            "231\n"
          ]
        }
      ]
    },
    {
      "cell_type": "code",
      "source": [
        "print(Myage + Myage)"
      ],
      "metadata": {
        "colab": {
          "base_uri": "https://localhost:8080/"
        },
        "id": "P6ZQO972_qwh",
        "outputId": "f1175a89-1b6d-498a-dded-41e93b6153dc"
      },
      "execution_count": null,
      "outputs": [
        {
          "output_type": "stream",
          "name": "stdout",
          "text": [
            "46\n"
          ]
        }
      ]
    },
    {
      "cell_type": "code",
      "source": [
        "print(Myage_str +Myage_str)"
      ],
      "metadata": {
        "colab": {
          "base_uri": "https://localhost:8080/"
        },
        "id": "qnki9kYR_0nA",
        "outputId": "326b1451-3dce-426b-c486-b4e14810dfce"
      },
      "execution_count": null,
      "outputs": [
        {
          "output_type": "stream",
          "name": "stdout",
          "text": [
            "2323\n"
          ]
        }
      ]
    },
    {
      "cell_type": "markdown",
      "source": [
        "### Indexing\n",
        "\n",
        "**_Python starts counting at ZERO_**"
      ],
      "metadata": {
        "id": "TNGP7Vjf_-Vo"
      }
    },
    {
      "cell_type": "code",
      "source": [
        "given_name[0]"
      ],
      "metadata": {
        "colab": {
          "base_uri": "https://localhost:8080/",
          "height": 35
        },
        "id": "0HHIE-9p_8IW",
        "outputId": "47c02358-6afc-42b2-afbc-1210f18ac561"
      },
      "execution_count": null,
      "outputs": [
        {
          "output_type": "execute_result",
          "data": {
            "text/plain": [
              "'M'"
            ],
            "application/vnd.google.colaboratory.intrinsic+json": {
              "type": "string"
            }
          },
          "metadata": {},
          "execution_count": 25
        }
      ]
    },
    {
      "cell_type": "code",
      "source": [
        "given_name[2:4]"
      ],
      "metadata": {
        "colab": {
          "base_uri": "https://localhost:8080/",
          "height": 35
        },
        "id": "yzW-74jaAbOQ",
        "outputId": "8312de66-b50b-4bbd-f34b-96d09990648d"
      },
      "execution_count": null,
      "outputs": [
        {
          "output_type": "execute_result",
          "data": {
            "text/plain": [
              "'tt'"
            ],
            "application/vnd.google.colaboratory.intrinsic+json": {
              "type": "string"
            }
          },
          "metadata": {},
          "execution_count": 27
        }
      ]
    },
    {
      "cell_type": "code",
      "source": [
        "given_name[0:4]"
      ],
      "metadata": {
        "colab": {
          "base_uri": "https://localhost:8080/",
          "height": 35
        },
        "id": "LUEZ42A-AhVW",
        "outputId": "896880dd-bba0-40e5-d453-5bab9f5c88f6"
      },
      "execution_count": null,
      "outputs": [
        {
          "output_type": "execute_result",
          "data": {
            "text/plain": [
              "'Matt'"
            ],
            "application/vnd.google.colaboratory.intrinsic+json": {
              "type": "string"
            }
          },
          "metadata": {},
          "execution_count": 28
        }
      ]
    },
    {
      "cell_type": "code",
      "source": [
        "given_name[2:]"
      ],
      "metadata": {
        "colab": {
          "base_uri": "https://localhost:8080/",
          "height": 35
        },
        "id": "5kVtQXeNAsJs",
        "outputId": "5d8697d8-f1fc-4d89-a318-ef69eacdb1df"
      },
      "execution_count": null,
      "outputs": [
        {
          "output_type": "execute_result",
          "data": {
            "text/plain": [
              "'tthew'"
            ],
            "application/vnd.google.colaboratory.intrinsic+json": {
              "type": "string"
            }
          },
          "metadata": {},
          "execution_count": 29
        }
      ]
    },
    {
      "cell_type": "markdown",
      "source": [
        "### Math: Integers vs. floats"
      ],
      "metadata": {
        "id": "-49gIXLmBCtD"
      }
    },
    {
      "cell_type": "code",
      "source": [
        "len(given_name)"
      ],
      "metadata": {
        "colab": {
          "base_uri": "https://localhost:8080/"
        },
        "id": "lKmBflLFA2eR",
        "outputId": "4573ecad-3c39-4954-f435-8fde303c1205"
      },
      "execution_count": null,
      "outputs": [
        {
          "output_type": "execute_result",
          "data": {
            "text/plain": [
              "7"
            ]
          },
          "metadata": {},
          "execution_count": 30
        }
      ]
    },
    {
      "cell_type": "code",
      "source": [
        "print(Myage)"
      ],
      "metadata": {
        "colab": {
          "base_uri": "https://localhost:8080/"
        },
        "id": "rNq2c4M0BGle",
        "outputId": "45d610a3-b2c7-467e-ebdf-015040fc7886"
      },
      "execution_count": null,
      "outputs": [
        {
          "output_type": "stream",
          "name": "stdout",
          "text": [
            "23\n"
          ]
        }
      ]
    },
    {
      "cell_type": "code",
      "source": [
        "Myage/4"
      ],
      "metadata": {
        "colab": {
          "base_uri": "https://localhost:8080/"
        },
        "id": "3k4MVAB-BMph",
        "outputId": "2e601ea2-51a3-40f7-95fd-09ac2de6d135"
      },
      "execution_count": null,
      "outputs": [
        {
          "output_type": "execute_result",
          "data": {
            "text/plain": [
              "5.75"
            ]
          },
          "metadata": {},
          "execution_count": 32
        }
      ]
    },
    {
      "cell_type": "code",
      "source": [
        "type(Myage/4)"
      ],
      "metadata": {
        "colab": {
          "base_uri": "https://localhost:8080/"
        },
        "id": "iYBGR7O-BRGX",
        "outputId": "3111b66a-3988-4557-ed1f-161035ab32c2"
      },
      "execution_count": null,
      "outputs": [
        {
          "output_type": "execute_result",
          "data": {
            "text/plain": [
              "float"
            ]
          },
          "metadata": {},
          "execution_count": 33
        }
      ]
    },
    {
      "cell_type": "code",
      "source": [
        "float(Myage)"
      ],
      "metadata": {
        "colab": {
          "base_uri": "https://localhost:8080/"
        },
        "id": "nkjH_AjyBWWT",
        "outputId": "9df0920a-86ad-496b-cc18-37aa0e4e19d5"
      },
      "execution_count": null,
      "outputs": [
        {
          "output_type": "execute_result",
          "data": {
            "text/plain": [
              "23.0"
            ]
          },
          "metadata": {},
          "execution_count": 34
        }
      ]
    },
    {
      "cell_type": "code",
      "source": [
        "Myage + float(Myage)"
      ],
      "metadata": {
        "colab": {
          "base_uri": "https://localhost:8080/"
        },
        "id": "ekHuvDJMBj8c",
        "outputId": "8ee027e9-2a13-4409-e7e5-4cafb2eca8fc"
      },
      "execution_count": null,
      "outputs": [
        {
          "output_type": "execute_result",
          "data": {
            "text/plain": [
              "46.0"
            ]
          },
          "metadata": {},
          "execution_count": 35
        }
      ]
    },
    {
      "cell_type": "markdown",
      "source": [
        "### BASICS Wrap-up"
      ],
      "metadata": {
        "id": "FVUSJqO8Btq4"
      }
    },
    {
      "cell_type": "code",
      "source": [
        "full_name_age = given_name + 'Thomas' ' is my full name, and I am '+str(Myage)+' years old :)'\n",
        "print(full_name_age)"
      ],
      "metadata": {
        "colab": {
          "base_uri": "https://localhost:8080/"
        },
        "id": "FkfdOywWByZU",
        "outputId": "8ebf4485-15b5-4862-e73d-a9465e493a26"
      },
      "execution_count": null,
      "outputs": [
        {
          "output_type": "stream",
          "name": "stdout",
          "text": [
            "MatthewThomas is my full name, and I am 23 years old :)\n"
          ]
        }
      ]
    },
    {
      "cell_type": "markdown",
      "source": [
        "###Math in Pyton"
      ],
      "metadata": {
        "id": "YPRNXsgxD9zn"
      }
    },
    {
      "cell_type": "code",
      "source": [
        "6/2\n"
      ],
      "metadata": {
        "colab": {
          "base_uri": "https://localhost:8080/"
        },
        "id": "MIAfvGBWEAhm",
        "outputId": "2df59f84-3f6e-4740-d604-64eebac0180c"
      },
      "execution_count": null,
      "outputs": [
        {
          "output_type": "execute_result",
          "data": {
            "text/plain": [
              "3.0"
            ]
          },
          "metadata": {},
          "execution_count": 47
        }
      ]
    },
    {
      "cell_type": "code",
      "source": [
        "5//2 #what is this? It rounds floats to integers following division. "
      ],
      "metadata": {
        "colab": {
          "base_uri": "https://localhost:8080/"
        },
        "id": "qTxEjcwDECmr",
        "outputId": "d22f4cd2-9443-46c1-8f2a-fea88e53db70"
      },
      "execution_count": null,
      "outputs": [
        {
          "output_type": "execute_result",
          "data": {
            "text/plain": [
              "2"
            ]
          },
          "metadata": {},
          "execution_count": 48
        }
      ]
    },
    {
      "cell_type": "code",
      "source": [
        "print(type(5/2), type(5//2))"
      ],
      "metadata": {
        "colab": {
          "base_uri": "https://localhost:8080/"
        },
        "id": "526W5JdbEGme",
        "outputId": "02877c31-e707-4a12-80ed-a7f69adf41c6"
      },
      "execution_count": null,
      "outputs": [
        {
          "output_type": "stream",
          "name": "stdout",
          "text": [
            "<class 'float'> <class 'int'>\n"
          ]
        }
      ]
    },
    {
      "cell_type": "code",
      "source": [
        "2*6"
      ],
      "metadata": {
        "colab": {
          "base_uri": "https://localhost:8080/"
        },
        "id": "_DnyZT1LElF0",
        "outputId": "c480b872-d5ed-45d0-b443-4fef42edf017"
      },
      "execution_count": null,
      "outputs": [
        {
          "output_type": "execute_result",
          "data": {
            "text/plain": [
              "12"
            ]
          },
          "metadata": {},
          "execution_count": 50
        }
      ]
    },
    {
      "cell_type": "code",
      "source": [
        "1+1"
      ],
      "metadata": {
        "colab": {
          "base_uri": "https://localhost:8080/"
        },
        "id": "CwELLRG4E1LC",
        "outputId": "11638521-329a-4821-fe4f-927c048c3440"
      },
      "execution_count": null,
      "outputs": [
        {
          "output_type": "execute_result",
          "data": {
            "text/plain": [
              "2"
            ]
          },
          "metadata": {},
          "execution_count": 52
        }
      ]
    },
    {
      "cell_type": "code",
      "source": [
        "1-1"
      ],
      "metadata": {
        "colab": {
          "base_uri": "https://localhost:8080/"
        },
        "id": "Q_Jo-H2QE3FU",
        "outputId": "5b2d7545-0f4d-4491-a343-923b4e7d705b"
      },
      "execution_count": null,
      "outputs": [
        {
          "output_type": "execute_result",
          "data": {
            "text/plain": [
              "0"
            ]
          },
          "metadata": {},
          "execution_count": 53
        }
      ]
    },
    {
      "cell_type": "markdown",
      "source": [
        "### Built in Summary Tools"
      ],
      "metadata": {
        "id": "-wFPPKu8E4VL"
      }
    },
    {
      "cell_type": "code",
      "source": [
        "nums = (2,4,5,3,1)\n",
        "type(nums)"
      ],
      "metadata": {
        "colab": {
          "base_uri": "https://localhost:8080/"
        },
        "id": "YSJ-Dt-9E7oo",
        "outputId": "90725689-62c4-4b59-ba4e-2cb4c218e62f"
      },
      "execution_count": null,
      "outputs": [
        {
          "output_type": "execute_result",
          "data": {
            "text/plain": [
              "tuple"
            ]
          },
          "metadata": {},
          "execution_count": 57
        }
      ]
    },
    {
      "cell_type": "code",
      "source": [
        "max(nums)"
      ],
      "metadata": {
        "colab": {
          "base_uri": "https://localhost:8080/"
        },
        "id": "axQKFOuZFF-j",
        "outputId": "ae3f742e-ba7e-484a-c95a-7bc8ecced291"
      },
      "execution_count": null,
      "outputs": [
        {
          "output_type": "execute_result",
          "data": {
            "text/plain": [
              "5"
            ]
          },
          "metadata": {},
          "execution_count": 58
        }
      ]
    },
    {
      "cell_type": "code",
      "source": [
        "min(nums)"
      ],
      "metadata": {
        "colab": {
          "base_uri": "https://localhost:8080/"
        },
        "id": "KqbRLcITFHjn",
        "outputId": "a50aabf4-8027-457f-c032-760da16cb31e"
      },
      "execution_count": null,
      "outputs": [
        {
          "output_type": "execute_result",
          "data": {
            "text/plain": [
              "1"
            ]
          },
          "metadata": {},
          "execution_count": 59
        }
      ]
    },
    {
      "cell_type": "code",
      "source": [
        "pi = 3.14159\n",
        "print(pi)"
      ],
      "metadata": {
        "colab": {
          "base_uri": "https://localhost:8080/"
        },
        "id": "gxii9-RgFT1c",
        "outputId": "b4c9760c-a4a6-42df-f0a0-43d8c7888e0e"
      },
      "execution_count": null,
      "outputs": [
        {
          "output_type": "stream",
          "name": "stdout",
          "text": [
            "3.14159\n"
          ]
        }
      ]
    },
    {
      "cell_type": "code",
      "source": [
        "round(pi, ndigits=2)"
      ],
      "metadata": {
        "colab": {
          "base_uri": "https://localhost:8080/"
        },
        "id": "EmM2iWbDFXpz",
        "outputId": "3a252fa3-415c-4632-a132-d8ae0dbf7642"
      },
      "execution_count": null,
      "outputs": [
        {
          "output_type": "execute_result",
          "data": {
            "text/plain": [
              "3.14"
            ]
          },
          "metadata": {},
          "execution_count": 61
        }
      ]
    },
    {
      "cell_type": "code",
      "source": [
        "round(2.55, ndigits=0)"
      ],
      "metadata": {
        "colab": {
          "base_uri": "https://localhost:8080/"
        },
        "id": "ljOrHWbSFfmd",
        "outputId": "f71f588b-96c8-4a37-d361-7f01ac2f25c0"
      },
      "execution_count": null,
      "outputs": [
        {
          "output_type": "execute_result",
          "data": {
            "text/plain": [
              "3.0"
            ]
          },
          "metadata": {},
          "execution_count": 62
        }
      ]
    },
    {
      "cell_type": "code",
      "source": [
        "round(2.55)"
      ],
      "metadata": {
        "id": "E295oiTyFvSK",
        "outputId": "f04f42b6-fded-4c9e-d991-2f571d615ea3",
        "colab": {
          "base_uri": "https://localhost:8080/"
        }
      },
      "execution_count": null,
      "outputs": [
        {
          "output_type": "execute_result",
          "data": {
            "text/plain": [
              "3"
            ]
          },
          "metadata": {},
          "execution_count": 64
        }
      ]
    },
    {
      "cell_type": "code",
      "source": [
        "help(round)"
      ],
      "metadata": {
        "colab": {
          "base_uri": "https://localhost:8080/"
        },
        "id": "sKs-BGMZFmV3",
        "outputId": "9cb44181-6f23-462e-ef58-26fe91be488c"
      },
      "execution_count": null,
      "outputs": [
        {
          "output_type": "stream",
          "name": "stdout",
          "text": [
            "Help on built-in function round in module builtins:\n",
            "\n",
            "round(number, ndigits=None)\n",
            "    Round a number to a given precision in decimal digits.\n",
            "    \n",
            "    The return value is an integer if ndigits is omitted or None.  Otherwise\n",
            "    the return value has the same type as the number.  ndigits may be negative.\n",
            "\n"
          ]
        }
      ]
    },
    {
      "cell_type": "markdown",
      "source": [
        "###Libraries"
      ],
      "metadata": {
        "id": "S9pjvNvMqyP1"
      }
    },
    {
      "cell_type": "code",
      "source": [
        "import math"
      ],
      "metadata": {
        "id": "-EdiLASaq1fb"
      },
      "execution_count": 1,
      "outputs": []
    },
    {
      "cell_type": "code",
      "source": [
        "print(math.pi)"
      ],
      "metadata": {
        "colab": {
          "base_uri": "https://localhost:8080/"
        },
        "id": "u9rmM8aKrMVM",
        "outputId": "c0b79c18-bf66-4b0a-f3b0-1cfa945f2903"
      },
      "execution_count": 2,
      "outputs": [
        {
          "output_type": "stream",
          "name": "stdout",
          "text": [
            "3.141592653589793\n"
          ]
        }
      ]
    },
    {
      "cell_type": "code",
      "source": [
        "import math as m\n",
        "print('pi is', m.pi)"
      ],
      "metadata": {
        "colab": {
          "base_uri": "https://localhost:8080/"
        },
        "id": "vsBNXn5irO1T",
        "outputId": "7de3b3c8-6cbc-468e-c6dc-24e11975d4a2"
      },
      "execution_count": 3,
      "outputs": [
        {
          "output_type": "stream",
          "name": "stdout",
          "text": [
            "pi is 3.141592653589793\n"
          ]
        }
      ]
    },
    {
      "cell_type": "code",
      "source": [
        "type(m.pi)"
      ],
      "metadata": {
        "colab": {
          "base_uri": "https://localhost:8080/"
        },
        "id": "zBEolgZJrr7j",
        "outputId": "674af28c-b992-4a6c-a899-fd97057568bc"
      },
      "execution_count": 4,
      "outputs": [
        {
          "output_type": "execute_result",
          "data": {
            "text/plain": [
              "float"
            ]
          },
          "metadata": {},
          "execution_count": 4
        }
      ]
    },
    {
      "cell_type": "code",
      "source": [
        "print('cosine of pi is', m.cos(m.pi))"
      ],
      "metadata": {
        "colab": {
          "base_uri": "https://localhost:8080/"
        },
        "id": "a-Ur5ETvrynI",
        "outputId": "5b9dc446-bec1-4805-9a9d-03db5b11a799"
      },
      "execution_count": 5,
      "outputs": [
        {
          "output_type": "stream",
          "name": "stdout",
          "text": [
            "cosine of pi is -1.0\n"
          ]
        }
      ]
    },
    {
      "cell_type": "code",
      "source": [
        "help(math)"
      ],
      "metadata": {
        "colab": {
          "base_uri": "https://localhost:8080/"
        },
        "id": "fBzvj7OMr48_",
        "outputId": "f6faa2de-9794-4745-d245-11e803b09eb5"
      },
      "execution_count": 6,
      "outputs": [
        {
          "output_type": "stream",
          "name": "stdout",
          "text": [
            "Help on built-in module math:\n",
            "\n",
            "NAME\n",
            "    math\n",
            "\n",
            "DESCRIPTION\n",
            "    This module provides access to the mathematical functions\n",
            "    defined by the C standard.\n",
            "\n",
            "FUNCTIONS\n",
            "    acos(x, /)\n",
            "        Return the arc cosine (measured in radians) of x.\n",
            "    \n",
            "    acosh(x, /)\n",
            "        Return the inverse hyperbolic cosine of x.\n",
            "    \n",
            "    asin(x, /)\n",
            "        Return the arc sine (measured in radians) of x.\n",
            "    \n",
            "    asinh(x, /)\n",
            "        Return the inverse hyperbolic sine of x.\n",
            "    \n",
            "    atan(x, /)\n",
            "        Return the arc tangent (measured in radians) of x.\n",
            "    \n",
            "    atan2(y, x, /)\n",
            "        Return the arc tangent (measured in radians) of y/x.\n",
            "        \n",
            "        Unlike atan(y/x), the signs of both x and y are considered.\n",
            "    \n",
            "    atanh(x, /)\n",
            "        Return the inverse hyperbolic tangent of x.\n",
            "    \n",
            "    ceil(x, /)\n",
            "        Return the ceiling of x as an Integral.\n",
            "        \n",
            "        This is the smallest integer >= x.\n",
            "    \n",
            "    copysign(x, y, /)\n",
            "        Return a float with the magnitude (absolute value) of x but the sign of y.\n",
            "        \n",
            "        On platforms that support signed zeros, copysign(1.0, -0.0)\n",
            "        returns -1.0.\n",
            "    \n",
            "    cos(x, /)\n",
            "        Return the cosine of x (measured in radians).\n",
            "    \n",
            "    cosh(x, /)\n",
            "        Return the hyperbolic cosine of x.\n",
            "    \n",
            "    degrees(x, /)\n",
            "        Convert angle x from radians to degrees.\n",
            "    \n",
            "    erf(x, /)\n",
            "        Error function at x.\n",
            "    \n",
            "    erfc(x, /)\n",
            "        Complementary error function at x.\n",
            "    \n",
            "    exp(x, /)\n",
            "        Return e raised to the power of x.\n",
            "    \n",
            "    expm1(x, /)\n",
            "        Return exp(x)-1.\n",
            "        \n",
            "        This function avoids the loss of precision involved in the direct evaluation of exp(x)-1 for small x.\n",
            "    \n",
            "    fabs(x, /)\n",
            "        Return the absolute value of the float x.\n",
            "    \n",
            "    factorial(x, /)\n",
            "        Find x!.\n",
            "        \n",
            "        Raise a ValueError if x is negative or non-integral.\n",
            "    \n",
            "    floor(x, /)\n",
            "        Return the floor of x as an Integral.\n",
            "        \n",
            "        This is the largest integer <= x.\n",
            "    \n",
            "    fmod(x, y, /)\n",
            "        Return fmod(x, y), according to platform C.\n",
            "        \n",
            "        x % y may differ.\n",
            "    \n",
            "    frexp(x, /)\n",
            "        Return the mantissa and exponent of x, as pair (m, e).\n",
            "        \n",
            "        m is a float and e is an int, such that x = m * 2.**e.\n",
            "        If x is 0, m and e are both 0.  Else 0.5 <= abs(m) < 1.0.\n",
            "    \n",
            "    fsum(seq, /)\n",
            "        Return an accurate floating point sum of values in the iterable seq.\n",
            "        \n",
            "        Assumes IEEE-754 floating point arithmetic.\n",
            "    \n",
            "    gamma(x, /)\n",
            "        Gamma function at x.\n",
            "    \n",
            "    gcd(x, y, /)\n",
            "        greatest common divisor of x and y\n",
            "    \n",
            "    hypot(x, y, /)\n",
            "        Return the Euclidean distance, sqrt(x*x + y*y).\n",
            "    \n",
            "    isclose(a, b, *, rel_tol=1e-09, abs_tol=0.0)\n",
            "        Determine whether two floating point numbers are close in value.\n",
            "        \n",
            "          rel_tol\n",
            "            maximum difference for being considered \"close\", relative to the\n",
            "            magnitude of the input values\n",
            "          abs_tol\n",
            "            maximum difference for being considered \"close\", regardless of the\n",
            "            magnitude of the input values\n",
            "        \n",
            "        Return True if a is close in value to b, and False otherwise.\n",
            "        \n",
            "        For the values to be considered close, the difference between them\n",
            "        must be smaller than at least one of the tolerances.\n",
            "        \n",
            "        -inf, inf and NaN behave similarly to the IEEE 754 Standard.  That\n",
            "        is, NaN is not close to anything, even itself.  inf and -inf are\n",
            "        only close to themselves.\n",
            "    \n",
            "    isfinite(x, /)\n",
            "        Return True if x is neither an infinity nor a NaN, and False otherwise.\n",
            "    \n",
            "    isinf(x, /)\n",
            "        Return True if x is a positive or negative infinity, and False otherwise.\n",
            "    \n",
            "    isnan(x, /)\n",
            "        Return True if x is a NaN (not a number), and False otherwise.\n",
            "    \n",
            "    ldexp(x, i, /)\n",
            "        Return x * (2**i).\n",
            "        \n",
            "        This is essentially the inverse of frexp().\n",
            "    \n",
            "    lgamma(x, /)\n",
            "        Natural logarithm of absolute value of Gamma function at x.\n",
            "    \n",
            "    log(...)\n",
            "        log(x, [base=math.e])\n",
            "        Return the logarithm of x to the given base.\n",
            "        \n",
            "        If the base not specified, returns the natural logarithm (base e) of x.\n",
            "    \n",
            "    log10(x, /)\n",
            "        Return the base 10 logarithm of x.\n",
            "    \n",
            "    log1p(x, /)\n",
            "        Return the natural logarithm of 1+x (base e).\n",
            "        \n",
            "        The result is computed in a way which is accurate for x near zero.\n",
            "    \n",
            "    log2(x, /)\n",
            "        Return the base 2 logarithm of x.\n",
            "    \n",
            "    modf(x, /)\n",
            "        Return the fractional and integer parts of x.\n",
            "        \n",
            "        Both results carry the sign of x and are floats.\n",
            "    \n",
            "    pow(x, y, /)\n",
            "        Return x**y (x to the power of y).\n",
            "    \n",
            "    radians(x, /)\n",
            "        Convert angle x from degrees to radians.\n",
            "    \n",
            "    remainder(x, y, /)\n",
            "        Difference between x and the closest integer multiple of y.\n",
            "        \n",
            "        Return x - n*y where n*y is the closest integer multiple of y.\n",
            "        In the case where x is exactly halfway between two multiples of\n",
            "        y, the nearest even value of n is used. The result is always exact.\n",
            "    \n",
            "    sin(x, /)\n",
            "        Return the sine of x (measured in radians).\n",
            "    \n",
            "    sinh(x, /)\n",
            "        Return the hyperbolic sine of x.\n",
            "    \n",
            "    sqrt(x, /)\n",
            "        Return the square root of x.\n",
            "    \n",
            "    tan(x, /)\n",
            "        Return the tangent of x (measured in radians).\n",
            "    \n",
            "    tanh(x, /)\n",
            "        Return the hyperbolic tangent of x.\n",
            "    \n",
            "    trunc(x, /)\n",
            "        Truncates the Real x to the nearest Integral toward 0.\n",
            "        \n",
            "        Uses the __trunc__ magic method.\n",
            "\n",
            "DATA\n",
            "    e = 2.718281828459045\n",
            "    inf = inf\n",
            "    nan = nan\n",
            "    pi = 3.141592653589793\n",
            "    tau = 6.283185307179586\n",
            "\n",
            "FILE\n",
            "    (built-in)\n",
            "\n",
            "\n"
          ]
        }
      ]
    },
    {
      "cell_type": "markdown",
      "source": [
        "## Reading Tables as Data"
      ],
      "metadata": {
        "id": "rQzRgmSqsJsS"
      }
    },
    {
      "cell_type": "code",
      "source": [
        "import pandas as pd"
      ],
      "metadata": {
        "id": "3ube9FUSsQ-k"
      },
      "execution_count": 7,
      "outputs": []
    },
    {
      "cell_type": "code",
      "source": [
        "help(pd)"
      ],
      "metadata": {
        "colab": {
          "base_uri": "https://localhost:8080/"
        },
        "id": "9MB6C-dYse0Q",
        "outputId": "f4f949da-b00e-4fff-98fe-967ebe1d9bb4"
      },
      "execution_count": 8,
      "outputs": [
        {
          "output_type": "stream",
          "name": "stdout",
          "text": [
            "Help on package pandas:\n",
            "\n",
            "NAME\n",
            "    pandas\n",
            "\n",
            "DESCRIPTION\n",
            "    pandas - a powerful data analysis and manipulation library for Python\n",
            "    =====================================================================\n",
            "    \n",
            "    **pandas** is a Python package providing fast, flexible, and expressive data\n",
            "    structures designed to make working with \"relational\" or \"labeled\" data both\n",
            "    easy and intuitive. It aims to be the fundamental high-level building block for\n",
            "    doing practical, **real world** data analysis in Python. Additionally, it has\n",
            "    the broader goal of becoming **the most powerful and flexible open source data\n",
            "    analysis / manipulation tool available in any language**. It is already well on\n",
            "    its way toward this goal.\n",
            "    \n",
            "    Main Features\n",
            "    -------------\n",
            "    Here are just a few of the things that pandas does well:\n",
            "    \n",
            "      - Easy handling of missing data in floating point as well as non-floating\n",
            "        point data.\n",
            "      - Size mutability: columns can be inserted and deleted from DataFrame and\n",
            "        higher dimensional objects\n",
            "      - Automatic and explicit data alignment: objects can be explicitly aligned\n",
            "        to a set of labels, or the user can simply ignore the labels and let\n",
            "        `Series`, `DataFrame`, etc. automatically align the data for you in\n",
            "        computations.\n",
            "      - Powerful, flexible group by functionality to perform split-apply-combine\n",
            "        operations on data sets, for both aggregating and transforming data.\n",
            "      - Make it easy to convert ragged, differently-indexed data in other Python\n",
            "        and NumPy data structures into DataFrame objects.\n",
            "      - Intelligent label-based slicing, fancy indexing, and subsetting of large\n",
            "        data sets.\n",
            "      - Intuitive merging and joining data sets.\n",
            "      - Flexible reshaping and pivoting of data sets.\n",
            "      - Hierarchical labeling of axes (possible to have multiple labels per tick).\n",
            "      - Robust IO tools for loading data from flat files (CSV and delimited),\n",
            "        Excel files, databases, and saving/loading data from the ultrafast HDF5\n",
            "        format.\n",
            "      - Time series-specific functionality: date range generation and frequency\n",
            "        conversion, moving window statistics, date shifting and lagging.\n",
            "\n",
            "PACKAGE CONTENTS\n",
            "    _config (package)\n",
            "    _libs (package)\n",
            "    _testing (package)\n",
            "    _typing\n",
            "    _version\n",
            "    api (package)\n",
            "    arrays (package)\n",
            "    compat (package)\n",
            "    conftest\n",
            "    core (package)\n",
            "    errors (package)\n",
            "    io (package)\n",
            "    plotting (package)\n",
            "    testing\n",
            "    tests (package)\n",
            "    tseries (package)\n",
            "    util (package)\n",
            "\n",
            "SUBMODULES\n",
            "    _hashtable\n",
            "    _lib\n",
            "    _tslib\n",
            "    offsets\n",
            "\n",
            "FUNCTIONS\n",
            "    __getattr__(name)\n",
            "        # GH 27101\n",
            "\n",
            "DATA\n",
            "    IndexSlice = <pandas.core.indexing._IndexSlice object>\n",
            "    NA = <NA>\n",
            "    NaT = NaT\n",
            "    __docformat__ = 'restructuredtext'\n",
            "    __git_version__ = '66e3805b8cabe977f40c05259cc3fcf7ead5687d'\n",
            "    describe_option = <pandas._config.config.CallableDynamicDoc object>\n",
            "    get_option = <pandas._config.config.CallableDynamicDoc object>\n",
            "    options = <pandas._config.config.DictWrapper object>\n",
            "    reset_option = <pandas._config.config.CallableDynamicDoc object>\n",
            "    set_option = <pandas._config.config.CallableDynamicDoc object>\n",
            "\n",
            "VERSION\n",
            "    1.3.5\n",
            "\n",
            "FILE\n",
            "    /usr/local/lib/python3.7/dist-packages/pandas/__init__.py\n",
            "\n",
            "\n"
          ]
        }
      ]
    },
    {
      "cell_type": "code",
      "source": [
        "data = pd.read_csv('sample_data/california_housing_test.csv')\n",
        "print(data)"
      ],
      "metadata": {
        "colab": {
          "base_uri": "https://localhost:8080/"
        },
        "id": "oyAwv311suck",
        "outputId": "c2cfe3ab-329d-4372-d4d6-cd42e36b34f3"
      },
      "execution_count": 9,
      "outputs": [
        {
          "output_type": "stream",
          "name": "stdout",
          "text": [
            "      longitude  latitude  housing_median_age  total_rooms  total_bedrooms  \\\n",
            "0       -122.05     37.37                27.0       3885.0           661.0   \n",
            "1       -118.30     34.26                43.0       1510.0           310.0   \n",
            "2       -117.81     33.78                27.0       3589.0           507.0   \n",
            "3       -118.36     33.82                28.0         67.0            15.0   \n",
            "4       -119.67     36.33                19.0       1241.0           244.0   \n",
            "...         ...       ...                 ...          ...             ...   \n",
            "2995    -119.86     34.42                23.0       1450.0           642.0   \n",
            "2996    -118.14     34.06                27.0       5257.0          1082.0   \n",
            "2997    -119.70     36.30                10.0        956.0           201.0   \n",
            "2998    -117.12     34.10                40.0         96.0            14.0   \n",
            "2999    -119.63     34.42                42.0       1765.0           263.0   \n",
            "\n",
            "      population  households  median_income  median_house_value  \n",
            "0         1537.0       606.0         6.6085            344700.0  \n",
            "1          809.0       277.0         3.5990            176500.0  \n",
            "2         1484.0       495.0         5.7934            270500.0  \n",
            "3           49.0        11.0         6.1359            330000.0  \n",
            "4          850.0       237.0         2.9375             81700.0  \n",
            "...          ...         ...            ...                 ...  \n",
            "2995      1258.0       607.0         1.1790            225000.0  \n",
            "2996      3496.0      1036.0         3.3906            237200.0  \n",
            "2997       693.0       220.0         2.2895             62000.0  \n",
            "2998        46.0        14.0         3.2708            162500.0  \n",
            "2999       753.0       260.0         8.5608            500001.0  \n",
            "\n",
            "[3000 rows x 9 columns]\n"
          ]
        }
      ]
    },
    {
      "cell_type": "code",
      "source": [
        "data = pd.read_csv('sample_data/california_housing_test.csv', index_col='median_income')\n",
        "print(data)"
      ],
      "metadata": {
        "colab": {
          "base_uri": "https://localhost:8080/"
        },
        "id": "x1RNPtTCtDdf",
        "outputId": "a2b43f3d-5797-450b-bd97-a5bc7e9ef7a2"
      },
      "execution_count": 10,
      "outputs": [
        {
          "output_type": "stream",
          "name": "stdout",
          "text": [
            "               longitude  latitude  housing_median_age  total_rooms  \\\n",
            "median_income                                                         \n",
            "6.6085           -122.05     37.37                27.0       3885.0   \n",
            "3.5990           -118.30     34.26                43.0       1510.0   \n",
            "5.7934           -117.81     33.78                27.0       3589.0   \n",
            "6.1359           -118.36     33.82                28.0         67.0   \n",
            "2.9375           -119.67     36.33                19.0       1241.0   \n",
            "...                  ...       ...                 ...          ...   \n",
            "1.1790           -119.86     34.42                23.0       1450.0   \n",
            "3.3906           -118.14     34.06                27.0       5257.0   \n",
            "2.2895           -119.70     36.30                10.0        956.0   \n",
            "3.2708           -117.12     34.10                40.0         96.0   \n",
            "8.5608           -119.63     34.42                42.0       1765.0   \n",
            "\n",
            "               total_bedrooms  population  households  median_house_value  \n",
            "median_income                                                              \n",
            "6.6085                  661.0      1537.0       606.0            344700.0  \n",
            "3.5990                  310.0       809.0       277.0            176500.0  \n",
            "5.7934                  507.0      1484.0       495.0            270500.0  \n",
            "6.1359                   15.0        49.0        11.0            330000.0  \n",
            "2.9375                  244.0       850.0       237.0             81700.0  \n",
            "...                       ...         ...         ...                 ...  \n",
            "1.1790                  642.0      1258.0       607.0            225000.0  \n",
            "3.3906                 1082.0      3496.0      1036.0            237200.0  \n",
            "2.2895                  201.0       693.0       220.0             62000.0  \n",
            "3.2708                   14.0        46.0        14.0            162500.0  \n",
            "8.5608                  263.0       753.0       260.0            500001.0  \n",
            "\n",
            "[3000 rows x 8 columns]\n"
          ]
        }
      ]
    },
    {
      "cell_type": "code",
      "source": [
        "type(data)"
      ],
      "metadata": {
        "colab": {
          "base_uri": "https://localhost:8080/"
        },
        "id": "jdM5Dt6-tdD1",
        "outputId": "1ed674b0-89a0-449f-bac3-19163565f9d2"
      },
      "execution_count": 11,
      "outputs": [
        {
          "output_type": "execute_result",
          "data": {
            "text/plain": [
              "pandas.core.frame.DataFrame"
            ]
          },
          "metadata": {},
          "execution_count": 11
        }
      ]
    },
    {
      "cell_type": "code",
      "source": [
        "data.info()"
      ],
      "metadata": {
        "colab": {
          "base_uri": "https://localhost:8080/"
        },
        "id": "_U43MQHxtk0R",
        "outputId": "a1e1aec1-dcda-438d-c05a-d66006e0cf1e"
      },
      "execution_count": 12,
      "outputs": [
        {
          "output_type": "stream",
          "name": "stdout",
          "text": [
            "<class 'pandas.core.frame.DataFrame'>\n",
            "Float64Index: 3000 entries, 6.6085 to 8.5608\n",
            "Data columns (total 8 columns):\n",
            " #   Column              Non-Null Count  Dtype  \n",
            "---  ------              --------------  -----  \n",
            " 0   longitude           3000 non-null   float64\n",
            " 1   latitude            3000 non-null   float64\n",
            " 2   housing_median_age  3000 non-null   float64\n",
            " 3   total_rooms         3000 non-null   float64\n",
            " 4   total_bedrooms      3000 non-null   float64\n",
            " 5   population          3000 non-null   float64\n",
            " 6   households          3000 non-null   float64\n",
            " 7   median_house_value  3000 non-null   float64\n",
            "dtypes: float64(8)\n",
            "memory usage: 210.9 KB\n"
          ]
        }
      ]
    },
    {
      "cell_type": "code",
      "source": [
        "print(data.columns)"
      ],
      "metadata": {
        "colab": {
          "base_uri": "https://localhost:8080/"
        },
        "id": "UiBjF6mdtxHE",
        "outputId": "7e910625-2e1a-4512-97c1-14e25883e199"
      },
      "execution_count": 13,
      "outputs": [
        {
          "output_type": "stream",
          "name": "stdout",
          "text": [
            "Index(['longitude', 'latitude', 'housing_median_age', 'total_rooms',\n",
            "       'total_bedrooms', 'population', 'households', 'median_house_value'],\n",
            "      dtype='object')\n"
          ]
        }
      ]
    },
    {
      "cell_type": "code",
      "source": [
        "print(data.T)"
      ],
      "metadata": {
        "colab": {
          "base_uri": "https://localhost:8080/"
        },
        "id": "ZjT-5rePuB0z",
        "outputId": "70b864a0-d4f5-4603-ede5-7ce6f2d42604"
      },
      "execution_count": 14,
      "outputs": [
        {
          "output_type": "stream",
          "name": "stdout",
          "text": [
            "median_income          6.6085     3.5990     5.7934     6.1359    2.9375  \\\n",
            "longitude             -122.05    -118.30    -117.81    -118.36   -119.67   \n",
            "latitude                37.37      34.26      33.78      33.82     36.33   \n",
            "housing_median_age      27.00      43.00      27.00      28.00     19.00   \n",
            "total_rooms           3885.00    1510.00    3589.00      67.00   1241.00   \n",
            "total_bedrooms         661.00     310.00     507.00      15.00    244.00   \n",
            "population            1537.00     809.00    1484.00      49.00    850.00   \n",
            "households             606.00     277.00     495.00      11.00    237.00   \n",
            "median_house_value  344700.00  176500.00  270500.00  330000.00  81700.00   \n",
            "\n",
            "median_income         1.6635    1.6641     3.2250     3.6696     2.3333  ...  \\\n",
            "longitude            -119.56   -121.43    -120.65    -122.84    -118.02  ...   \n",
            "latitude               36.51     38.63      35.48      38.40      34.08  ...   \n",
            "housing_median_age     37.00     43.00      19.00      15.00      31.00  ...   \n",
            "total_rooms          1018.00   1009.00    2310.00    3080.00    2402.00  ...   \n",
            "total_bedrooms        213.00    225.00     471.00     617.00     632.00  ...   \n",
            "population            663.00    604.00    1341.00    1446.00    2830.00  ...   \n",
            "households            204.00    218.00     441.00     599.00     603.00  ...   \n",
            "median_house_value  67000.00  67000.00  166900.00  194400.00  164200.00  ...   \n",
            "\n",
            "median_income          2.6923     7.1997     6.2263     5.1048     5.5867  \\\n",
            "longitude             -118.23    -117.17    -122.33    -117.91    -117.93   \n",
            "latitude                34.09      34.28      37.39      33.60      33.86   \n",
            "housing_median_age      49.00      13.00      52.00      37.00      35.00   \n",
            "total_rooms           1638.00    4867.00     573.00    2088.00     931.00   \n",
            "total_bedrooms         456.00     718.00     102.00     510.00     181.00   \n",
            "population            1500.00     780.00     232.00     673.00     516.00   \n",
            "households             430.00     250.00      92.00     390.00     174.00   \n",
            "median_house_value  150000.00  253800.00  500001.00  500001.00  182500.00   \n",
            "\n",
            "median_income          1.1790     3.3906   2.2895     3.2708     8.5608  \n",
            "longitude             -119.86    -118.14   -119.7    -117.12    -119.63  \n",
            "latitude                34.42      34.06     36.3      34.10      34.42  \n",
            "housing_median_age      23.00      27.00     10.0      40.00      42.00  \n",
            "total_rooms           1450.00    5257.00    956.0      96.00    1765.00  \n",
            "total_bedrooms         642.00    1082.00    201.0      14.00     263.00  \n",
            "population            1258.00    3496.00    693.0      46.00     753.00  \n",
            "households             607.00    1036.00    220.0      14.00     260.00  \n",
            "median_house_value  225000.00  237200.00  62000.0  162500.00  500001.00  \n",
            "\n",
            "[8 rows x 3000 columns]\n"
          ]
        }
      ]
    },
    {
      "cell_type": "code",
      "source": [
        "print(data.describe())"
      ],
      "metadata": {
        "colab": {
          "base_uri": "https://localhost:8080/"
        },
        "id": "Jx1eM5Geufyr",
        "outputId": "29c8d27a-bce2-4606-adec-22421fd9835e"
      },
      "execution_count": 15,
      "outputs": [
        {
          "output_type": "stream",
          "name": "stdout",
          "text": [
            "         longitude    latitude  housing_median_age   total_rooms  \\\n",
            "count  3000.000000  3000.00000         3000.000000   3000.000000   \n",
            "mean   -119.589200    35.63539           28.845333   2599.578667   \n",
            "std       1.994936     2.12967           12.555396   2155.593332   \n",
            "min    -124.180000    32.56000            1.000000      6.000000   \n",
            "25%    -121.810000    33.93000           18.000000   1401.000000   \n",
            "50%    -118.485000    34.27000           29.000000   2106.000000   \n",
            "75%    -118.020000    37.69000           37.000000   3129.000000   \n",
            "max    -114.490000    41.92000           52.000000  30450.000000   \n",
            "\n",
            "       total_bedrooms    population  households  median_house_value  \n",
            "count     3000.000000   3000.000000  3000.00000          3000.00000  \n",
            "mean       529.950667   1402.798667   489.91200        205846.27500  \n",
            "std        415.654368   1030.543012   365.42271        113119.68747  \n",
            "min          2.000000      5.000000     2.00000         22500.00000  \n",
            "25%        291.000000    780.000000   273.00000        121200.00000  \n",
            "50%        437.000000   1155.000000   409.50000        177650.00000  \n",
            "75%        636.000000   1742.750000   597.25000        263975.00000  \n",
            "max       5419.000000  11935.000000  4930.00000        500001.00000  \n"
          ]
        }
      ]
    },
    {
      "cell_type": "code",
      "source": [
        "print(data.T.describe())"
      ],
      "metadata": {
        "colab": {
          "base_uri": "https://localhost:8080/"
        },
        "id": "SHnTt9RSuqcx",
        "outputId": "5a11b628-ff91-4d7a-b4aa-8bcdf467da7e"
      },
      "execution_count": 16,
      "outputs": [
        {
          "output_type": "stream",
          "name": "stdout",
          "text": [
            "median_income         6.6085         3.5990         5.7934         6.1359  \\\n",
            "count               8.000000       8.000000       8.000000       8.000000   \n",
            "mean            43916.415000   22420.620000   34564.746250   41260.682500   \n",
            "std            121541.970835   62259.710451   95340.051195  116668.316062   \n",
            "min              -122.050000    -118.300000    -117.810000    -118.360000   \n",
            "25%                34.777500      40.815000      32.085000      14.000000   \n",
            "50%               633.500000     293.500000     501.000000      30.910000   \n",
            "75%              2124.000000     984.250000    2010.250000      53.500000   \n",
            "max            344700.000000  176500.000000  270500.000000  330000.000000   \n",
            "\n",
            "median_income        2.9375        1.6635        1.6641         3.2250  \\\n",
            "count              8.000000      8.000000      8.000000       8.000000   \n",
            "mean           10525.957500   8631.493750   8627.025000   21424.603750   \n",
            "std            28762.371344  23587.400994  23589.024838   58786.621064   \n",
            "min             -119.670000   -119.560000   -121.430000    -120.650000   \n",
            "25%               31.997500     36.877500     41.907500      31.360000   \n",
            "50%              240.500000    208.500000    221.500000     456.000000   \n",
            "75%              947.750000    751.750000    705.250000    1583.250000   \n",
            "max            81700.000000  67000.000000  67000.000000  166900.000000   \n",
            "\n",
            "median_income         3.6696         2.3333  ...       2.6923         7.1997  \\\n",
            "count               8.000000       8.000000  ...       8.0000       8.000000   \n",
            "mean            25009.070000   21326.757500  ...   19248.6075   32543.138750   \n",
            "std             68452.345193   57740.247048  ...   52835.6918   89416.267414   \n",
            "min              -122.840000    -118.020000  ...    -118.2300    -117.170000   \n",
            "25%                32.550000      33.310000  ...      45.2725      28.960000   \n",
            "50%               608.000000     617.500000  ...     443.0000     484.000000   \n",
            "75%              1854.500000    2509.000000  ...    1534.5000    1801.750000   \n",
            "max            194400.000000  164200.000000  ...  150000.0000  253800.000000   \n",
            "\n",
            "median_income         6.2263         5.1048         5.5867         1.1790  \\\n",
            "count               8.000000       8.000000       8.000000       8.000000   \n",
            "mean            62620.882500   62951.836250   23031.616250   28611.820000   \n",
            "std            176728.371353  176595.895348   64435.814749   79354.891655   \n",
            "min              -122.330000    -117.910000    -117.930000    -119.860000   \n",
            "25%                48.347500      36.150000      34.715000      31.565000   \n",
            "50%                97.000000     450.000000     177.500000     624.500000   \n",
            "75%               317.250000    1026.750000     619.750000    1306.000000   \n",
            "max            500001.000000  500001.000000  182500.000000  225000.000000   \n",
            "\n",
            "median_income         3.3906        2.2895         3.2708         8.5608  \n",
            "count               8.000000      8.000000       8.000000       8.000000  \n",
            "mean            31001.740000   7999.575000   20328.372500   62874.848750  \n",
            "std             83338.462109  21822.508466   57446.044718  176626.669812  \n",
            "min              -118.140000   -119.700000    -117.120000    -119.630000  \n",
            "25%                32.295000     29.725000      14.000000      40.105000  \n",
            "50%              1059.000000    210.500000      37.050000     261.500000  \n",
            "75%              3936.250000    758.750000      58.500000    1006.000000  \n",
            "max            237200.000000  62000.000000  162500.000000  500001.000000  \n",
            "\n",
            "[8 rows x 3000 columns]\n"
          ]
        }
      ]
    },
    {
      "cell_type": "code",
      "source": [
        "data.T.to_csv('sample_data/california_housing_test_transposed.csv')"
      ],
      "metadata": {
        "id": "ymbX6JqIveDC"
      },
      "execution_count": 17,
      "outputs": []
    },
    {
      "cell_type": "markdown",
      "source": [
        "###Plotting Data"
      ],
      "metadata": {
        "id": "2kYtjo8Nv8Yl"
      }
    },
    {
      "cell_type": "code",
      "source": [
        "%matplotlib inline\n",
        "import matplotlib.pyplot as plt"
      ],
      "metadata": {
        "id": "4UiujgFOwFJg"
      },
      "execution_count": 18,
      "outputs": []
    },
    {
      "cell_type": "code",
      "source": [
        "time = [0,1,2,3,4,5]\n",
        "response = [20,25,40,80,65,47]"
      ],
      "metadata": {
        "id": "ZfK3t1MMwaWs"
      },
      "execution_count": 19,
      "outputs": []
    },
    {
      "cell_type": "code",
      "source": [
        "print(time, response)"
      ],
      "metadata": {
        "colab": {
          "base_uri": "https://localhost:8080/"
        },
        "id": "poqiozNhwodk",
        "outputId": "f36e85ca-a233-454e-a93e-5895e279641d"
      },
      "execution_count": 20,
      "outputs": [
        {
          "output_type": "stream",
          "name": "stdout",
          "text": [
            "[0, 1, 2, 3, 4, 5] [20, 25, 40, 80, 65, 47]\n"
          ]
        }
      ]
    },
    {
      "cell_type": "code",
      "source": [
        "plt.plot(time, response)\n",
        "plt.xlabel('Time (hours)')\n",
        "plt.ylabel('Response(cm)')"
      ],
      "metadata": {
        "colab": {
          "base_uri": "https://localhost:8080/",
          "height": 297
        },
        "id": "lcEsQz6WwucL",
        "outputId": "de5a0c8b-6812-42db-ec02-d87bc50a6202"
      },
      "execution_count": 22,
      "outputs": [
        {
          "output_type": "execute_result",
          "data": {
            "text/plain": [
              "Text(0, 0.5, 'Response(cm)')"
            ]
          },
          "metadata": {},
          "execution_count": 22
        },
        {
          "output_type": "display_data",
          "data": {
            "text/plain": [
              "<Figure size 432x288 with 1 Axes>"
            ],
            "image/png": "[encoded data removed]"
          },
          "metadata": {
            "needs_background": "light"
          }
        }
      ]
    },
    {
      "cell_type": "code",
      "source": [
        "!curl -L -o PracCompPyData.zip http://bit.ly/PracCompPyData"
      ],
      "metadata": {
        "colab": {
          "base_uri": "https://localhost:8080/"
        },
        "id": "RCrbrpE0xFbw",
        "outputId": "c9785c8f-cc1e-466d-b6f3-25bc8c71dda7"
      },
      "execution_count": 23,
      "outputs": [
        {
          "output_type": "stream",
          "name": "stdout",
          "text": [
            "  % Total    % Received % Xferd  Average Speed   Time    Time     Time  Current\n",
            "                                 Dload  Upload   Total   Spent    Left  Speed\n",
            "100   137  100   137    0     0   1151      0 --:--:-- --:--:-- --:--:--  1151\n",
            "100   116    0   116    0     0    298      0 --:--:-- --:--:-- --:--:--   298\n",
            "100   340  100   340    0     0    379      0 --:--:-- --:--:-- --:--:--     0\n",
            "100   534    0   534    0     0    482      0 --:--:--  0:00:01 --:--:--   482\n",
            "100 38179  100 38179    0     0  29967      0  0:00:01  0:00:01 --:--:-- 29967\n"
          ]
        }
      ]
    },
    {
      "cell_type": "code",
      "source": [
        "!unzip PracCompPyData.zip"
      ],
      "metadata": {
        "colab": {
          "base_uri": "https://localhost:8080/"
        },
        "id": "BLMJMzL8xYbQ",
        "outputId": "9befb4d6-e964-48aa-8e5c-7a5b6676ebd7"
      },
      "execution_count": 24,
      "outputs": [
        {
          "output_type": "stream",
          "name": "stdout",
          "text": [
            "Archive:  PracCompPyData.zip\n",
            "  inflating: data/gapminder_all.csv  \n",
            "  inflating: data/gapminder_gdp_africa.csv  \n",
            "  inflating: data/gapminder_gdp_americas.csv  \n",
            "  inflating: data/gapminder_gdp_asia.csv  \n",
            "  inflating: data/gapminder_gdp_europe.csv  \n",
            "  inflating: data/gapminder_gdp_oceania.csv  \n"
          ]
        }
      ]
    },
    {
      "cell_type": "code",
      "source": [
        "data = pd.read_csv('data/gapminder_gdp_europe.csv', index_col='country')"
      ],
      "metadata": {
        "id": "qYHzyuDqxl5N"
      },
      "execution_count": 28,
      "outputs": []
    },
    {
      "cell_type": "code",
      "source": [
        "print(data)"
      ],
      "metadata": {
        "colab": {
          "base_uri": "https://localhost:8080/"
        },
        "id": "scFtNkxNx7z4",
        "outputId": "1d84c563-5cb5-4ca6-c004-bcb22ef52e81"
      },
      "execution_count": 29,
      "outputs": [
        {
          "output_type": "stream",
          "name": "stdout",
          "text": [
            "                        gdpPercap_1952  gdpPercap_1957  gdpPercap_1962  \\\n",
            "country                                                                  \n",
            "Albania                    1601.056136     1942.284244     2312.888958   \n",
            "Austria                    6137.076492     8842.598030    10750.721110   \n",
            "Belgium                    8343.105127     9714.960623    10991.206760   \n",
            "Bosnia and Herzegovina      973.533195     1353.989176     1709.683679   \n",
            "Bulgaria                   2444.286648     3008.670727     4254.337839   \n",
            "Croatia                    3119.236520     4338.231617     5477.890018   \n",
            "Czech Republic             6876.140250     8256.343918    10136.867130   \n",
            "Denmark                    9692.385245    11099.659350    13583.313510   \n",
            "Finland                    6424.519071     7545.415386     9371.842561   \n",
            "France                     7029.809327     8662.834898    10560.485530   \n",
            "Germany                    7144.114393    10187.826650    12902.462910   \n",
            "Greece                     3530.690067     4916.299889     6017.190733   \n",
            "Hungary                    5263.673816     6040.180011     7550.359877   \n",
            "Iceland                    7267.688428     9244.001412    10350.159060   \n",
            "Ireland                    5210.280328     5599.077872     6631.597314   \n",
            "Italy                      4931.404155     6248.656232     8243.582340   \n",
            "Montenegro                 2647.585601     3682.259903     4649.593785   \n",
            "Netherlands                8941.571858    11276.193440    12790.849560   \n",
            "Norway                    10095.421720    11653.973040    13450.401510   \n",
            "Poland                     4029.329699     4734.253019     5338.752143   \n",
            "Portugal                   3068.319867     3774.571743     4727.954889   \n",
            "Romania                    3144.613186     3943.370225     4734.997586   \n",
            "Serbia                     3581.459448     4981.090891     6289.629157   \n",
            "Slovak Republic            5074.659104     6093.262980     7481.107598   \n",
            "Slovenia                   4215.041741     5862.276629     7402.303395   \n",
            "Spain                      3834.034742     4564.802410     5693.843879   \n",
            "Sweden                     8527.844662     9911.878226    12329.441920   \n",
            "Switzerland               14734.232750    17909.489730    20431.092700   \n",
            "Turkey                     1969.100980     2218.754257     2322.869908   \n",
            "United Kingdom             9979.508487    11283.177950    12477.177070   \n",
            "\n",
            "                        gdpPercap_1967  gdpPercap_1972  gdpPercap_1977  \\\n",
            "country                                                                  \n",
            "Albania                    2760.196931     3313.422188     3533.003910   \n",
            "Austria                   12834.602400    16661.625600    19749.422300   \n",
            "Belgium                   13149.041190    16672.143560    19117.974480   \n",
            "Bosnia and Herzegovina     2172.352423     2860.169750     3528.481305   \n",
            "Bulgaria                   5577.002800     6597.494398     7612.240438   \n",
            "Croatia                    6960.297861     9164.090127    11305.385170   \n",
            "Czech Republic            11399.444890    13108.453600    14800.160620   \n",
            "Denmark                   15937.211230    18866.207210    20422.901500   \n",
            "Finland                   10921.636260    14358.875900    15605.422830   \n",
            "France                    12999.917660    16107.191710    18292.635140   \n",
            "Germany                   14745.625610    18016.180270    20512.921230   \n",
            "Greece                     8513.097016    12724.829570    14195.524280   \n",
            "Hungary                    9326.644670    10168.656110    11674.837370   \n",
            "Iceland                   13319.895680    15798.063620    19654.962470   \n",
            "Ireland                    7655.568963     9530.772896    11150.981130   \n",
            "Italy                     10022.401310    12269.273780    14255.984750   \n",
            "Montenegro                 5907.850937     7778.414017     9595.929905   \n",
            "Netherlands               15363.251360    18794.745670    21209.059200   \n",
            "Norway                    16361.876470    18965.055510    23311.349390   \n",
            "Poland                     6557.152776     8006.506993     9508.141454   \n",
            "Portugal                   6361.517993     9022.247417    10172.485720   \n",
            "Romania                    6470.866545     8011.414402     9356.397240   \n",
            "Serbia                     7991.707066    10522.067490    12980.669560   \n",
            "Slovak Republic            8412.902397     9674.167626    10922.664040   \n",
            "Slovenia                   9405.489397    12383.486200    15277.030170   \n",
            "Spain                      7993.512294    10638.751310    13236.921170   \n",
            "Sweden                    15258.296970    17832.024640    18855.725210   \n",
            "Switzerland               22966.144320    27195.113040    26982.290520   \n",
            "Turkey                     2826.356387     3450.696380     4269.122326   \n",
            "United Kingdom            14142.850890    15895.116410    17428.748460   \n",
            "\n",
            "                        gdpPercap_1982  gdpPercap_1987  gdpPercap_1992  \\\n",
            "country                                                                  \n",
            "Albania                    3630.880722     3738.932735     2497.437901   \n",
            "Austria                   21597.083620    23687.826070    27042.018680   \n",
            "Belgium                   20979.845890    22525.563080    25575.570690   \n",
            "Bosnia and Herzegovina     4126.613157     4314.114757     2546.781445   \n",
            "Bulgaria                   8224.191647     8239.854824     6302.623438   \n",
            "Croatia                   13221.821840    13822.583940     8447.794873   \n",
            "Czech Republic            15377.228550    16310.443400    14297.021220   \n",
            "Denmark                   21688.040480    25116.175810    26406.739850   \n",
            "Finland                   18533.157610    21141.012230    20647.164990   \n",
            "France                    20293.897460    22066.442140    24703.796150   \n",
            "Germany                   22031.532740    24639.185660    26505.303170   \n",
            "Greece                    15268.420890    16120.528390    17541.496340   \n",
            "Hungary                   12545.990660    12986.479980    10535.628550   \n",
            "Iceland                   23269.607500    26923.206280    25144.392010   \n",
            "Ireland                   12618.321410    13872.866520    17558.815550   \n",
            "Italy                     16537.483500    19207.234820    22013.644860   \n",
            "Montenegro                11222.587620    11732.510170     7003.339037   \n",
            "Netherlands               21399.460460    23651.323610    26790.949610   \n",
            "Norway                    26298.635310    31540.974800    33965.661150   \n",
            "Poland                     8451.531004     9082.351172     7738.881247   \n",
            "Portugal                  11753.842910    13039.308760    16207.266630   \n",
            "Romania                    9605.314053     9696.273295     6598.409903   \n",
            "Serbia                    15181.092700    15870.878510     9325.068238   \n",
            "Slovak Republic           11348.545850    12037.267580     9498.467723   \n",
            "Slovenia                  17866.721750    18678.534920    14214.716810   \n",
            "Spain                     13926.169970    15764.983130    18603.064520   \n",
            "Sweden                    20667.381250    23586.929270    23880.016830   \n",
            "Switzerland               28397.715120    30281.704590    31871.530300   \n",
            "Turkey                     4241.356344     5089.043686     5678.348271   \n",
            "United Kingdom            18232.424520    21664.787670    22705.092540   \n",
            "\n",
            "                        gdpPercap_1997  gdpPercap_2002  gdpPercap_2007  \n",
            "country                                                                 \n",
            "Albania                    3193.054604     4604.211737     5937.029526  \n",
            "Austria                   29095.920660    32417.607690    36126.492700  \n",
            "Belgium                   27561.196630    30485.883750    33692.605080  \n",
            "Bosnia and Herzegovina     4766.355904     6018.975239     7446.298803  \n",
            "Bulgaria                   5970.388760     7696.777725    10680.792820  \n",
            "Croatia                    9875.604515    11628.388950    14619.222720  \n",
            "Czech Republic            16048.514240    17596.210220    22833.308510  \n",
            "Denmark                   29804.345670    32166.500060    35278.418740  \n",
            "Finland                   23723.950200    28204.590570    33207.084400  \n",
            "France                    25889.784870    28926.032340    30470.016700  \n",
            "Germany                   27788.884160    30035.801980    32170.374420  \n",
            "Greece                    18747.698140    22514.254800    27538.411880  \n",
            "Hungary                   11712.776800    14843.935560    18008.944440  \n",
            "Iceland                   28061.099660    31163.201960    36180.789190  \n",
            "Ireland                   24521.947130    34077.049390    40675.996350  \n",
            "Italy                     24675.024460    27968.098170    28569.719700  \n",
            "Montenegro                 6465.613349     6557.194282     9253.896111  \n",
            "Netherlands               30246.130630    33724.757780    36797.933320  \n",
            "Norway                    41283.164330    44683.975250    49357.190170  \n",
            "Poland                    10159.583680    12002.239080    15389.924680  \n",
            "Portugal                  17641.031560    19970.907870    20509.647770  \n",
            "Romania                    7346.547557     7885.360081    10808.475610  \n",
            "Serbia                     7914.320304     7236.075251     9786.534714  \n",
            "Slovak Republic           12126.230650    13638.778370    18678.314350  \n",
            "Slovenia                  17161.107350    20660.019360    25768.257590  \n",
            "Spain                     20445.298960    24835.471660    28821.063700  \n",
            "Sweden                    25266.594990    29341.630930    33859.748350  \n",
            "Switzerland               32135.323010    34480.957710    37506.419070  \n",
            "Turkey                     6601.429915     6508.085718     8458.276384  \n",
            "United Kingdom            26074.531360    29478.999190    33203.261280  \n"
          ]
        }
      ]
    },
    {
      "cell_type": "code",
      "source": [
        "years = data.columns.str.strip('gdpPercap_')"
      ],
      "metadata": {
        "id": "sTTdOQ34yIyJ"
      },
      "execution_count": 30,
      "outputs": []
    },
    {
      "cell_type": "code",
      "source": [
        "type(years)"
      ],
      "metadata": {
        "colab": {
          "base_uri": "https://localhost:8080/"
        },
        "id": "Wa-yjYB9ySC9",
        "outputId": "bdedc616-e785-46ac-e619-23f062c7d527"
      },
      "execution_count": 31,
      "outputs": [
        {
          "output_type": "execute_result",
          "data": {
            "text/plain": [
              "pandas.core.indexes.base.Index"
            ]
          },
          "metadata": {},
          "execution_count": 31
        }
      ]
    },
    {
      "cell_type": "code",
      "source": [
        "data.info()"
      ],
      "metadata": {
        "colab": {
          "base_uri": "https://localhost:8080/"
        },
        "id": "_mJuXoIUyU0O",
        "outputId": "9f6f7848-eff8-41b8-e80d-0c583c3dae2b"
      },
      "execution_count": 32,
      "outputs": [
        {
          "output_type": "stream",
          "name": "stdout",
          "text": [
            "<class 'pandas.core.frame.DataFrame'>\n",
            "Index: 30 entries, Albania to United Kingdom\n",
            "Data columns (total 12 columns):\n",
            " #   Column          Non-Null Count  Dtype  \n",
            "---  ------          --------------  -----  \n",
            " 0   gdpPercap_1952  30 non-null     float64\n",
            " 1   gdpPercap_1957  30 non-null     float64\n",
            " 2   gdpPercap_1962  30 non-null     float64\n",
            " 3   gdpPercap_1967  30 non-null     float64\n",
            " 4   gdpPercap_1972  30 non-null     float64\n",
            " 5   gdpPercap_1977  30 non-null     float64\n",
            " 6   gdpPercap_1982  30 non-null     float64\n",
            " 7   gdpPercap_1987  30 non-null     float64\n",
            " 8   gdpPercap_1992  30 non-null     float64\n",
            " 9   gdpPercap_1997  30 non-null     float64\n",
            " 10  gdpPercap_2002  30 non-null     float64\n",
            " 11  gdpPercap_2007  30 non-null     float64\n",
            "dtypes: float64(12)\n",
            "memory usage: 4.1+ KB\n"
          ]
        }
      ]
    },
    {
      "cell_type": "code",
      "source": [
        "print(data.columns)"
      ],
      "metadata": {
        "colab": {
          "base_uri": "https://localhost:8080/"
        },
        "id": "sdRNeDXRyfe6",
        "outputId": "98b4e059-c06f-4500-fe1d-f51fed037e3e"
      },
      "execution_count": 33,
      "outputs": [
        {
          "output_type": "stream",
          "name": "stdout",
          "text": [
            "Index(['gdpPercap_1952', 'gdpPercap_1957', 'gdpPercap_1962', 'gdpPercap_1967',\n",
            "       'gdpPercap_1972', 'gdpPercap_1977', 'gdpPercap_1982', 'gdpPercap_1987',\n",
            "       'gdpPercap_1992', 'gdpPercap_1997', 'gdpPercap_2002', 'gdpPercap_2007'],\n",
            "      dtype='object')\n"
          ]
        }
      ]
    },
    {
      "cell_type": "code",
      "source": [
        "print(data.T)"
      ],
      "metadata": {
        "colab": {
          "base_uri": "https://localhost:8080/"
        },
        "id": "3aWAG7f8ysJx",
        "outputId": "65ea441b-552a-485f-e27c-6ad183cbdecb"
      },
      "execution_count": 34,
      "outputs": [
        {
          "output_type": "stream",
          "name": "stdout",
          "text": [
            "country             Albania       Austria       Belgium  \\\n",
            "gdpPercap_1952  1601.056136   6137.076492   8343.105127   \n",
            "gdpPercap_1957  1942.284244   8842.598030   9714.960623   \n",
            "gdpPercap_1962  2312.888958  10750.721110  10991.206760   \n",
            "gdpPercap_1967  2760.196931  12834.602400  13149.041190   \n",
            "gdpPercap_1972  3313.422188  16661.625600  16672.143560   \n",
            "gdpPercap_1977  3533.003910  19749.422300  19117.974480   \n",
            "gdpPercap_1982  3630.880722  21597.083620  20979.845890   \n",
            "gdpPercap_1987  3738.932735  23687.826070  22525.563080   \n",
            "gdpPercap_1992  2497.437901  27042.018680  25575.570690   \n",
            "gdpPercap_1997  3193.054604  29095.920660  27561.196630   \n",
            "gdpPercap_2002  4604.211737  32417.607690  30485.883750   \n",
            "gdpPercap_2007  5937.029526  36126.492700  33692.605080   \n",
            "\n",
            "country         Bosnia and Herzegovina      Bulgaria       Croatia  \\\n",
            "gdpPercap_1952              973.533195   2444.286648   3119.236520   \n",
            "gdpPercap_1957             1353.989176   3008.670727   4338.231617   \n",
            "gdpPercap_1962             1709.683679   4254.337839   5477.890018   \n",
            "gdpPercap_1967             2172.352423   5577.002800   6960.297861   \n",
            "gdpPercap_1972             2860.169750   6597.494398   9164.090127   \n",
            "gdpPercap_1977             3528.481305   7612.240438  11305.385170   \n",
            "gdpPercap_1982             4126.613157   8224.191647  13221.821840   \n",
            "gdpPercap_1987             4314.114757   8239.854824  13822.583940   \n",
            "gdpPercap_1992             2546.781445   6302.623438   8447.794873   \n",
            "gdpPercap_1997             4766.355904   5970.388760   9875.604515   \n",
            "gdpPercap_2002             6018.975239   7696.777725  11628.388950   \n",
            "gdpPercap_2007             7446.298803  10680.792820  14619.222720   \n",
            "\n",
            "country         Czech Republic       Denmark       Finland        France  ...  \\\n",
            "gdpPercap_1952     6876.140250   9692.385245   6424.519071   7029.809327  ...   \n",
            "gdpPercap_1957     8256.343918  11099.659350   7545.415386   8662.834898  ...   \n",
            "gdpPercap_1962    10136.867130  13583.313510   9371.842561  10560.485530  ...   \n",
            "gdpPercap_1967    11399.444890  15937.211230  10921.636260  12999.917660  ...   \n",
            "gdpPercap_1972    13108.453600  18866.207210  14358.875900  16107.191710  ...   \n",
            "gdpPercap_1977    14800.160620  20422.901500  15605.422830  18292.635140  ...   \n",
            "gdpPercap_1982    15377.228550  21688.040480  18533.157610  20293.897460  ...   \n",
            "gdpPercap_1987    16310.443400  25116.175810  21141.012230  22066.442140  ...   \n",
            "gdpPercap_1992    14297.021220  26406.739850  20647.164990  24703.796150  ...   \n",
            "gdpPercap_1997    16048.514240  29804.345670  23723.950200  25889.784870  ...   \n",
            "gdpPercap_2002    17596.210220  32166.500060  28204.590570  28926.032340  ...   \n",
            "gdpPercap_2007    22833.308510  35278.418740  33207.084400  30470.016700  ...   \n",
            "\n",
            "country             Portugal       Romania        Serbia  Slovak Republic  \\\n",
            "gdpPercap_1952   3068.319867   3144.613186   3581.459448      5074.659104   \n",
            "gdpPercap_1957   3774.571743   3943.370225   4981.090891      6093.262980   \n",
            "gdpPercap_1962   4727.954889   4734.997586   6289.629157      7481.107598   \n",
            "gdpPercap_1967   6361.517993   6470.866545   7991.707066      8412.902397   \n",
            "gdpPercap_1972   9022.247417   8011.414402  10522.067490      9674.167626   \n",
            "gdpPercap_1977  10172.485720   9356.397240  12980.669560     10922.664040   \n",
            "gdpPercap_1982  11753.842910   9605.314053  15181.092700     11348.545850   \n",
            "gdpPercap_1987  13039.308760   9696.273295  15870.878510     12037.267580   \n",
            "gdpPercap_1992  16207.266630   6598.409903   9325.068238      9498.467723   \n",
            "gdpPercap_1997  17641.031560   7346.547557   7914.320304     12126.230650   \n",
            "gdpPercap_2002  19970.907870   7885.360081   7236.075251     13638.778370   \n",
            "gdpPercap_2007  20509.647770  10808.475610   9786.534714     18678.314350   \n",
            "\n",
            "country             Slovenia         Spain        Sweden  Switzerland  \\\n",
            "gdpPercap_1952   4215.041741   3834.034742   8527.844662  14734.23275   \n",
            "gdpPercap_1957   5862.276629   4564.802410   9911.878226  17909.48973   \n",
            "gdpPercap_1962   7402.303395   5693.843879  12329.441920  20431.09270   \n",
            "gdpPercap_1967   9405.489397   7993.512294  15258.296970  22966.14432   \n",
            "gdpPercap_1972  12383.486200  10638.751310  17832.024640  27195.11304   \n",
            "gdpPercap_1977  15277.030170  13236.921170  18855.725210  26982.29052   \n",
            "gdpPercap_1982  17866.721750  13926.169970  20667.381250  28397.71512   \n",
            "gdpPercap_1987  18678.534920  15764.983130  23586.929270  30281.70459   \n",
            "gdpPercap_1992  14214.716810  18603.064520  23880.016830  31871.53030   \n",
            "gdpPercap_1997  17161.107350  20445.298960  25266.594990  32135.32301   \n",
            "gdpPercap_2002  20660.019360  24835.471660  29341.630930  34480.95771   \n",
            "gdpPercap_2007  25768.257590  28821.063700  33859.748350  37506.41907   \n",
            "\n",
            "country              Turkey  United Kingdom  \n",
            "gdpPercap_1952  1969.100980     9979.508487  \n",
            "gdpPercap_1957  2218.754257    11283.177950  \n",
            "gdpPercap_1962  2322.869908    12477.177070  \n",
            "gdpPercap_1967  2826.356387    14142.850890  \n",
            "gdpPercap_1972  3450.696380    15895.116410  \n",
            "gdpPercap_1977  4269.122326    17428.748460  \n",
            "gdpPercap_1982  4241.356344    18232.424520  \n",
            "gdpPercap_1987  5089.043686    21664.787670  \n",
            "gdpPercap_1992  5678.348271    22705.092540  \n",
            "gdpPercap_1997  6601.429915    26074.531360  \n",
            "gdpPercap_2002  6508.085718    29478.999190  \n",
            "gdpPercap_2007  8458.276384    33203.261280  \n",
            "\n",
            "[12 rows x 30 columns]\n"
          ]
        }
      ]
    },
    {
      "cell_type": "code",
      "source": [
        "print(data.describe())"
      ],
      "metadata": {
        "colab": {
          "base_uri": "https://localhost:8080/"
        },
        "id": "OQUyuPzwy2JU",
        "outputId": "57f5f4b1-fc03-43dc-d08c-4211f70ee243"
      },
      "execution_count": 35,
      "outputs": [
        {
          "output_type": "stream",
          "name": "stdout",
          "text": [
            "       gdpPercap_1952  gdpPercap_1957  gdpPercap_1962  gdpPercap_1967  \\\n",
            "count       30.000000       30.000000       30.000000       30.000000   \n",
            "mean      5661.057435     6963.012816     8365.486814    10143.823757   \n",
            "std       3114.060493     3677.950146     4199.193906     4724.983889   \n",
            "min        973.533195     1353.989176     1709.683679     2172.352423   \n",
            "25%       3241.132406     4394.874315     5373.536612     6657.939047   \n",
            "50%       5142.469716     6066.721495     7515.733737     9366.067033   \n",
            "75%       7236.794919     9597.220820    10931.085348    13277.182058   \n",
            "max      14734.232750    17909.489730    20431.092700    22966.144320   \n",
            "\n",
            "       gdpPercap_1972  gdpPercap_1977  gdpPercap_1982  gdpPercap_1987  \\\n",
            "count       30.000000       30.000000       30.000000       30.000000   \n",
            "mean     12479.575246    14283.979110    15617.896551    17214.310727   \n",
            "std       5509.691411     5874.464896     6453.234827     7482.957960   \n",
            "min       2860.169750     3528.481305     3630.880722     3738.932735   \n",
            "25%       9057.708094    10360.030300    11449.870115    12274.570680   \n",
            "50%      12326.379990    14225.754515    15322.824720    16215.485895   \n",
            "75%      16523.017127    19052.412163    20901.729730    23321.587723   \n",
            "max      27195.113040    26982.290520    28397.715120    31540.974800   \n",
            "\n",
            "       gdpPercap_1992  gdpPercap_1997  gdpPercap_2002  gdpPercap_2007  \n",
            "count       30.000000       30.000000       30.000000       30.000000  \n",
            "mean     17061.568084    19076.781802    21711.732422    25054.481636  \n",
            "std       9109.804361    10065.457716    11197.355517    11800.339811  \n",
            "min       2497.437901     3193.054604     4604.211737     5937.029526  \n",
            "25%       8667.113214     9946.599306    11721.851483    14811.898210  \n",
            "50%      17550.155945    19596.498550    23674.863230    28054.065790  \n",
            "75%      25034.243045    27189.530312    30373.363307    33817.962533  \n",
            "max      33965.661150    41283.164330    44683.975250    49357.190170  \n"
          ]
        }
      ]
    },
    {
      "cell_type": "code",
      "source": [
        "data.columns = years.astype(int)"
      ],
      "metadata": {
        "id": "n4idByr5y8jO"
      },
      "execution_count": 36,
      "outputs": []
    },
    {
      "cell_type": "code",
      "source": [
        "print(data.columns)"
      ],
      "metadata": {
        "colab": {
          "base_uri": "https://localhost:8080/"
        },
        "id": "l1Cml5eezBiA",
        "outputId": "66218049-3854-4561-c06a-5c63ba967489"
      },
      "execution_count": 37,
      "outputs": [
        {
          "output_type": "stream",
          "name": "stdout",
          "text": [
            "Int64Index([1952, 1957, 1962, 1967, 1972, 1977, 1982, 1987, 1992, 1997, 2002,\n",
            "            2007],\n",
            "           dtype='int64')\n"
          ]
        }
      ]
    },
    {
      "cell_type": "code",
      "source": [
        "data.plot()"
      ],
      "metadata": {
        "colab": {
          "base_uri": "https://localhost:8080/",
          "height": 297
        },
        "id": "-oO2UfbpzHPu",
        "outputId": "aca29ae3-7c4f-4328-fba5-8b15d1c687eb"
      },
      "execution_count": 38,
      "outputs": [
        {
          "output_type": "execute_result",
          "data": {
            "text/plain": [
              "<matplotlib.axes._subplots.AxesSubplot at 0x7fd5684fa4d0>"
            ]
          },
          "metadata": {},
          "execution_count": 38
        },
        {
          "output_type": "display_data",
          "data": {
            "text/plain": [
              "<Figure size 432x288 with 1 Axes>"
            ],
            "image/png": "[encoded data removed]"
          },
          "metadata": {
            "needs_background": "light"
          }
        }
      ]
    },
    {
      "cell_type": "code",
      "source": [
        "data.loc['Italy'].plot()"
      ],
      "metadata": {
        "colab": {
          "base_uri": "https://localhost:8080/",
          "height": 283
        },
        "id": "JHOvvjAqzZdO",
        "outputId": "414bdbfa-9198-4de1-f44d-0f7c52e07298"
      },
      "execution_count": 39,
      "outputs": [
        {
          "output_type": "execute_result",
          "data": {
            "text/plain": [
              "<matplotlib.axes._subplots.AxesSubplot at 0x7fd5683970d0>"
            ]
          },
          "metadata": {},
          "execution_count": 39
        },
        {
          "output_type": "display_data",
          "data": {
            "text/plain": [
              "<Figure size 432x288 with 1 Axes>"
            ],
            "image/png": "[encoded data removed]"
          },
          "metadata": {
            "needs_background": "light"
          }
        }
      ]
    },
    {
      "cell_type": "code",
      "source": [
        "data.T.plot()\n",
        "plt.ylabel('GDP/capita')\n",
        "plt.xlabel('year')"
      ],
      "metadata": {
        "colab": {
          "base_uri": "https://localhost:8080/",
          "height": 522
        },
        "id": "pTiGPh9t0ih4",
        "outputId": "68eb11b8-356c-4d67-b0fe-a8ebd3d1362a"
      },
      "execution_count": 41,
      "outputs": [
        {
          "output_type": "execute_result",
          "data": {
            "text/plain": [
              "Text(0.5, 0, 'year')"
            ]
          },
          "metadata": {},
          "execution_count": 41
        },
        {
          "output_type": "display_data",
          "data": {
            "text/plain": [
              "<Figure size 432x288 with 1 Axes>"
            ],
            "image/png": "[encoded data removed]"
          },
          "metadata": {
            "needs_background": "light"
          }
        }
      ]
    },
    {
      "cell_type": "code",
      "source": [
        "plt.style.use('ggplot')\n",
        "data.T.plot()\n",
        "plt.ylabel('GDP/capita')\n",
        "plt.xlabel('year')"
      ],
      "metadata": {
        "colab": {
          "base_uri": "https://localhost:8080/",
          "height": 522
        },
        "id": "ZESxMi4x06Po",
        "outputId": "3845dbd8-ffa1-443c-976c-a77352917a29"
      },
      "execution_count": 42,
      "outputs": [
        {
          "output_type": "execute_result",
          "data": {
            "text/plain": [
              "Text(0.5, 0, 'year')"
            ]
          },
          "metadata": {},
          "execution_count": 42
        },
        {
          "output_type": "display_data",
          "data": {
            "text/plain": [
              "<Figure size 432x288 with 1 Axes>"
            ],
            "image/png": "[encoded data removed]"
          },
          "metadata": {}
        }
      ]
    },
    {
      "cell_type": "code",
      "source": [
        "plt.style.use('ggplot')\n",
        "data.T.plot(kind ='bar')\n",
        "plt.ylabel('GDP/capita')\n",
        "plt.xlabel('year')"
      ],
      "metadata": {
        "colab": {
          "base_uri": "https://localhost:8080/",
          "height": 571
        },
        "id": "oFKcE85S1Lrj",
        "outputId": "9db7833c-5ee9-4d3b-ee50-06bc3ed69035"
      },
      "execution_count": 43,
      "outputs": [
        {
          "output_type": "execute_result",
          "data": {
            "text/plain": [
              "Text(0.5, 0, 'year')"
            ]
          },
          "metadata": {},
          "execution_count": 43
        },
        {
          "output_type": "display_data",
          "data": {
            "text/plain": [
              "<Figure size 432x288 with 1 Axes>"
            ],
            "image/png": "[encoded data removed]"
          },
          "metadata": {}
        }
      ]
    },
    {
      "cell_type": "code",
      "source": [
        "plt.plot(time, response, 'g--')"
      ],
      "metadata": {
        "colab": {
          "base_uri": "https://localhost:8080/",
          "height": 283
        },
        "id": "qtdayPCe1Z90",
        "outputId": "7b8e85f0-bfdf-4757-d6db-8a9fa949391e"
      },
      "execution_count": 44,
      "outputs": [
        {
          "output_type": "execute_result",
          "data": {
            "text/plain": [
              "[<matplotlib.lines.Line2D at 0x7fd566248090>]"
            ]
          },
          "metadata": {},
          "execution_count": 44
        },
        {
          "output_type": "display_data",
          "data": {
            "text/plain": [
              "<Figure size 432x288 with 1 Axes>"
            ],
            "image/png": "[encoded data removed]"
          },
          "metadata": {}
        }
      ]
    },
    {
      "cell_type": "code",
      "source": [
        "plt.plot(time, response, 'bo')"
      ],
      "metadata": {
        "colab": {
          "base_uri": "https://localhost:8080/",
          "height": 283
        },
        "id": "tlPvMsJB1sTq",
        "outputId": "2c2d7e57-9d7a-470a-de17-e8e93123c717"
      },
      "execution_count": 45,
      "outputs": [
        {
          "output_type": "execute_result",
          "data": {
            "text/plain": [
              "[<matplotlib.lines.Line2D at 0x7fd5661cb810>]"
            ]
          },
          "metadata": {},
          "execution_count": 45
        },
        {
          "output_type": "display_data",
          "data": {
            "text/plain": [
              "<Figure size 432x288 with 1 Axes>"
            ],
            "image/png": "[encoded data removed]"
          },
          "metadata": {}
        }
      ]
    },
    {
      "cell_type": "code",
      "source": [
        "gdp_italy = data.loc['Italy']\n",
        "gdp_uk = data.loc['United Kingdom']\n",
        "\n",
        "plt.plot(years, gdp_italy, 'g--', label = 'Italy')\n",
        "plt.plot(years, gdp_uk, 'o-', label = 'United Kindgom')\n",
        "\n",
        "plt.xlabel ('year')\n",
        "plt.ylabel ('GDP/Capita')\n",
        "plt.legend(loc='lower right')"
      ],
      "metadata": {
        "colab": {
          "base_uri": "https://localhost:8080/",
          "height": 300
        },
        "id": "vdk56aUM2TRT",
        "outputId": "20ac6348-19df-4e9a-dff0-d226b08f6381"
      },
      "execution_count": 49,
      "outputs": [
        {
          "output_type": "execute_result",
          "data": {
            "text/plain": [
              "<matplotlib.legend.Legend at 0x7fd565fb59d0>"
            ]
          },
          "metadata": {},
          "execution_count": 49
        },
        {
          "output_type": "display_data",
          "data": {
            "text/plain": [
              "<Figure size 432x288 with 1 Axes>"
            ],
            "image/png": "[encoded data removed]"
          },
          "metadata": {}
        }
      ]
    },
    {
      "cell_type": "code",
      "source": [
        "plt.scatter(gdp_italy, gdp_uk)"
      ],
      "metadata": {
        "colab": {
          "base_uri": "https://localhost:8080/",
          "height": 283
        },
        "id": "y1sh145Q3Nkp",
        "outputId": "f0bbfc7a-4a21-4605-b346-a611cfc48d03"
      },
      "execution_count": 50,
      "outputs": [
        {
          "output_type": "execute_result",
          "data": {
            "text/plain": [
              "<matplotlib.collections.PathCollection at 0x7fd56a8a2610>"
            ]
          },
          "metadata": {},
          "execution_count": 50
        },
        {
          "output_type": "display_data",
          "data": {
            "text/plain": [
              "<Figure size 432x288 with 1 Axes>"
            ],
            "image/png": "[encoded data removed]"
          },
          "metadata": {}
        }
      ]
    },
    {
      "cell_type": "code",
      "source": [
        "plt.style.use('default')\n",
        "\n",
        "gdp_italy = data.loc['Italy']\n",
        "gdp_uk = data.loc['United Kingdom']\n",
        "\n",
        "plt.plot(years, gdp_italy, '--', label = 'Italy')\n",
        "plt.plot(years, gdp_uk, 'o-', label = 'United Kindgom')\n",
        "\n",
        "plt.xlabel ('year')\n",
        "plt.ylabel ('GDP/Capita')\n",
        "plt.legend(loc='lower right')\n"
      ],
      "metadata": {
        "colab": {
          "base_uri": "https://localhost:8080/",
          "height": 467
        },
        "id": "thA9dyAm35k7",
        "outputId": "8b2f6cc0-9207-4a8e-cc1f-5a32017065ba"
      },
      "execution_count": 60,
      "outputs": [
        {
          "output_type": "execute_result",
          "data": {
            "text/plain": [
              "<matplotlib.legend.Legend at 0x7fd565bd8850>"
            ]
          },
          "metadata": {},
          "execution_count": 60
        },
        {
          "output_type": "display_data",
          "data": {
            "text/plain": [
              "<Figure size 640x480 with 1 Axes>"
            ],
            "image/png": "[encoded data removed]"
          },
          "metadata": {}
        }
      ]
    },
    {
      "cell_type": "code",
      "source": [
        "print(plt.style.available)"
      ],
      "metadata": {
        "colab": {
          "base_uri": "https://localhost:8080/"
        },
        "id": "fgnR1ugh4hmX",
        "outputId": "8fca0592-f2a0-4b85-aee4-7b6e90e78203"
      },
      "execution_count": 55,
      "outputs": [
        {
          "output_type": "stream",
          "name": "stdout",
          "text": [
            "['Solarize_Light2', '_classic_test_patch', 'bmh', 'classic', 'dark_background', 'fast', 'fivethirtyeight', 'ggplot', 'grayscale', 'seaborn', 'seaborn-bright', 'seaborn-colorblind', 'seaborn-dark', 'seaborn-dark-palette', 'seaborn-darkgrid', 'seaborn-deep', 'seaborn-muted', 'seaborn-notebook', 'seaborn-paper', 'seaborn-pastel', 'seaborn-poster', 'seaborn-talk', 'seaborn-ticks', 'seaborn-white', 'seaborn-whitegrid', 'tableau-colorblind10']\n"
          ]
        }
      ]
    }
  ]
}